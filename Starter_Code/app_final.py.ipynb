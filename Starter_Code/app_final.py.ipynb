{
 "cells": [
  {
   "cell_type": "code",
   "execution_count": 9,
   "id": "886cbc87",
   "metadata": {},
   "outputs": [],
   "source": [
    "# Import the dependencies.\n",
    "import numpy as np\n",
    "import datetime as dt\n",
    "\n",
    "import sqlalchemy\n",
    "from sqlalchemy.ext.automap import automap_base\n",
    "from sqlalchemy.orm import Session\n",
    "from sqlalchemy import create_engine, func, and_\n",
    "from sqlalchemy.ext.declarative import declarative_base\n",
    "\n",
    "from flask import Flask, jsonify"
   ]
  },
  {
   "cell_type": "code",
   "execution_count": 11,
   "id": "5c85720d",
   "metadata": {},
   "outputs": [],
   "source": [
    "#################################################\n",
    "# Database Setup\n",
    "#################################################\n",
    "engine = create_engine(\"sqlite:///Resources/hawaii.sqlite\")\n",
    "\n",
    "\n",
    "# reflect an existing database into a new model\n",
    "Base = automap_base()\n",
    "# reflect the tables\n",
    "Base.prepare(autoload_with=engine)\n",
    "\n",
    "# Save references to each table\n",
    "m = Base.classes.measurement\n",
    "s= Base.classes.station\n",
    "\n",
    "# Create our session (link) from Python to the DB\n",
    "Base = declarative_base()\n",
    "session = Session(engine)"
   ]
  },
  {
   "cell_type": "code",
   "execution_count": 19,
   "id": "3c5bcf92",
   "metadata": {},
   "outputs": [
    {
     "name": "stdout",
     "output_type": "stream",
     "text": [
      " * Serving Flask app '__main__'\n",
      " * Debug mode: on\n"
     ]
    },
    {
     "name": "stderr",
     "output_type": "stream",
     "text": [
      "WARNING: This is a development server. Do not use it in a production deployment. Use a production WSGI server instead.\n",
      " * Running on http://127.0.0.1:5000\n",
      "Press CTRL+C to quit\n",
      " * Restarting with watchdog (windowsapi)\n"
     ]
    },
    {
     "ename": "SystemExit",
     "evalue": "1",
     "output_type": "error",
     "traceback": [
      "An exception has occurred, use %tb to see the full traceback.\n",
      "\u001b[1;31mSystemExit\u001b[0m\u001b[1;31m:\u001b[0m 1\n"
     ]
    },
    {
     "name": "stderr",
     "output_type": "stream",
     "text": [
      "C:\\Users\\14075\\anaconda3\\envs\\dev\\lib\\site-packages\\IPython\\core\\interactiveshell.py:3513: UserWarning: To exit: use 'exit', 'quit', or Ctrl-D.\n",
      "  warn(\"To exit: use 'exit', 'quit', or Ctrl-D.\", stacklevel=1)\n"
     ]
    }
   ],
   "source": [
    "#################################################\n",
    "# Flask Setup\n",
    "#################################################\n",
    "app = Flask(__name__)\n",
    "#################################################\n",
    "# Flask Routes\n",
    "#################################################\n",
    "@app.route(\"/\")\n",
    "def welcome():\n",
    "    \"\"\"List all available api routes.\"\"\"\n",
    "    return (\n",
    "        f\"Available Routes:<br/>\"\n",
    "        f\"/api/v1.0/precipitation<br/>\"\n",
    "        f\"/api/v1.0/stations<br/>\"\n",
    "        f\"/api/v1.0/tobs<br/>\"\n",
    "        f\"/api/v1.0/start<br/>\"\n",
    "        f\"/api/v1.0/start&end\"\n",
    "    )\n",
    "\n",
    "@app.route(\"/api/v1.0/precipitation\")\n",
    "def precipitation():\n",
    "    \n",
    "    q = session.query(m.date, m.prcp).filter(and_(func.date(m.date) >= '2016, 8, 23'),\\\n",
    "                                              func.date(m.date) <= '2017-8-23')\n",
    "    \n",
    "    prcp_date = []\n",
    "\n",
    "    for date, prcp in q:\n",
    "        new_dict = {}\n",
    "        new_dict[date] = prcp\n",
    "        prcp_date.append(new_dict)\n",
    "\n",
    "    session.close()\n",
    "\n",
    "    return jsonify(prcp_date)\n",
    "\n",
    "@app.route(\"/api/v1.0/stations\")\n",
    "def stations():\n",
    "    \n",
    "    \n",
    "    ses = session.query(s.station, s.name).all()\n",
    "    stations = {}\n",
    "    \n",
    "    for s, name in ses:\n",
    "        stations[s]=name\n",
    "        \n",
    "    session.close()\n",
    " \n",
    "    return jsonify(stations)\n",
    "\n",
    "\n",
    "@app.route(\"/api.v1.0/tobs\")\n",
    "def tobs():\n",
    "    tob_q = session.query(m.station,func.count()).group_by(m.station).order_by(func.count().desc()).all()\n",
    "    \n",
    "    tobs_list = []\n",
    "    \n",
    "    for date, tobs in tob_q:\n",
    "        tob_d = {}\n",
    "        tob_d[date] = tobs\n",
    "        tobs_list.append(tob_d)\n",
    "        \n",
    "    \n",
    "    session.close()\n",
    "\n",
    "    return jsonify(tobs_list)\n",
    "\n",
    "@app.route(\"/api/v1.0/start\")\n",
    "def start():\n",
    "    start = session.query(func.min(m.tobs),func.avg(m.tobs),func.max(m.tobs)).filter(m.date=='2017-08-23').all()\n",
    "    start_list = []\n",
    "    \n",
    "    for date, min, avg, max in start:\n",
    "        start_dict = {}\n",
    "        start_dict[date] = date\n",
    "        start_dict[min] = min\n",
    "        start_dict[avg] = avg\n",
    "        start_dict[max] = max\n",
    "        start_list.append(start_dict)\n",
    "    \n",
    "    session.close()    \n",
    "\n",
    "    return jsonify(start_list)\n",
    "    \n",
    "\n",
    "@app.route(\"/api/v1.0/start&end\")  \n",
    "def start_end():\n",
    "    start_end = session.query(func.min(m.tobs),func.avg(m.tobs),func.max(m.tobs)).filter(and_(func.date(m.date) >= '2016, 8, 23'),\\\n",
    "                                              func.date(m.date) <= '2017-8-23').group_by(m.date).all()\n",
    "    start_end = []\n",
    "    \n",
    "    for date, min, avg, max in start:\n",
    "        start_dict = {}\n",
    "        start_dict[date] = date\n",
    "        start_dict[min] = min\n",
    "        start_dict[avg] = avg\n",
    "        start_dict[max] = max\n",
    "        start_end.append(start_end)\n",
    "    \n",
    "    session.close()    \n",
    "\n",
    "    return jsonify(start_list)\n",
    "\n",
    "\n",
    "    \n",
    "        \n",
    "        \n",
    "    \n",
    "if __name__ == '__main__':\n",
    "    app.run(debug=True)    \n"
   ]
  },
  {
   "cell_type": "code",
   "execution_count": null,
   "id": "af2a6248",
   "metadata": {},
   "outputs": [],
   "source": [
    "# Close Session\n",
    "session.close()"
   ]
  }
 ],
 "metadata": {
  "kernelspec": {
   "display_name": "Python 3 (ipykernel)",
   "language": "python",
   "name": "python3"
  },
  "language_info": {
   "codemirror_mode": {
    "name": "ipython",
    "version": 3
   },
   "file_extension": ".py",
   "mimetype": "text/x-python",
   "name": "python",
   "nbconvert_exporter": "python",
   "pygments_lexer": "ipython3",
   "version": "3.10.11"
  }
 },
 "nbformat": 4,
 "nbformat_minor": 5
}
